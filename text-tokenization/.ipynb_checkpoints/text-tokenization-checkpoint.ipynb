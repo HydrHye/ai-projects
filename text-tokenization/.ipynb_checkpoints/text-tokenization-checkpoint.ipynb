{
 "cells": [
  {
   "cell_type": "markdown",
   "id": "107493ae-aed5-4726-a0ae-852cea757f88",
   "metadata": {},
   "source": [
    "---\n",
    "## Setting up the environment\n",
    "---"
   ]
  },
  {
   "cell_type": "code",
   "execution_count": 1,
   "id": "340bb60a-48be-425d-8d57-93b7265e6771",
   "metadata": {},
   "outputs": [
    {
     "name": "stdout",
     "output_type": "stream",
     "text": [
      "environment is setup correctly!\n"
     ]
    }
   ],
   "source": [
    "import numpy as np\n",
    "import pandas as pd\n",
    "from sklearn.model_selection import train_test_split\n",
    "import nltk\n",
    "\n",
    "print(\"environment is setup correctly!\")"
   ]
  },
  {
   "cell_type": "markdown",
   "id": "6657743f-c042-4bcd-90e2-cedfa1cff702",
   "metadata": {},
   "source": [
    "---\n",
    "### Step 2: ###\n",
    "*Understanding customer's needs with NLP using Natural Language Toolkit (NLTK).*\n",
    "*A popular library for working with Human Language data.*\n",
    "\n",
    "---\n"
   ]
  },
  {
   "cell_type": "code",
   "execution_count": 2,
   "id": "245e8eaf-1e65-4bc2-b13e-ee5a68909ac2",
   "metadata": {},
   "outputs": [],
   "source": [
    "from nltk.tokenize import word_tokenize"
   ]
  },
  {
   "cell_type": "code",
   "execution_count": 3,
   "id": "09d17b4e-2d38-4819-af93-9eb26e7da33f",
   "metadata": {},
   "outputs": [
    {
     "name": "stdout",
     "output_type": "stream",
     "text": [
      "Tokenized words: ['I', 'am', 'interested', 'in', 'installing', 'solar', 'panels', 'for', 'my', 'home', '.', 'What', 'options', 'do', 'you', 'have', '?']\n"
     ]
    }
   ],
   "source": [
    "# Example customer query\n",
    "customer_query = \"I am interested in installing solar panels for my home. What options do you have?\"\n",
    "\n",
    "# Tokenize the query into words\n",
    "tokens = word_tokenize(customer_query)\n",
    "\n",
    "print(\"Tokenized words:\", tokens)"
   ]
  },
  {
   "cell_type": "markdown",
   "id": "8eeeb78b-8b04-49e1-9ea7-55f424f68df7",
   "metadata": {},
   "source": [
    "---\n",
    "### Troubleshooting\n",
    "*Executing the above required me to download the **punk_tab** from the terminal (i could have used jupyter too). There was a **lookUpError**. I ran the following command on the terminal to do that.*\n",
    "\n",
    "```\n",
    "python -m nltk.downloader punkt_tab\n",
    "```\n",
    "---\n",
    "\n"
   ]
  },
  {
   "cell_type": "code",
   "execution_count": 4,
   "id": "d4c673c8-d4f0-4377-9894-4c2637675544",
   "metadata": {},
   "outputs": [
    {
     "name": "stderr",
     "output_type": "stream",
     "text": [
      "[nltk_data] Downloading package stopwords to\n",
      "[nltk_data]     /Users/haider/nltk_data...\n",
      "[nltk_data]   Package stopwords is already up-to-date!\n"
     ]
    },
    {
     "data": {
      "text/plain": [
       "True"
      ]
     },
     "execution_count": 4,
     "metadata": {},
     "output_type": "execute_result"
    }
   ],
   "source": [
    "from nltk.corpus import stopwords\n",
    "nltk.download('stopwords')"
   ]
  },
  {
   "cell_type": "code",
   "execution_count": 5,
   "id": "11ad636f-2416-47b5-97c4-287f062c013c",
   "metadata": {},
   "outputs": [],
   "source": [
    "# removing common words like 'I', 'am', 'in', etc\n",
    "stop_words = set(stopwords.words('english'))"
   ]
  },
  {
   "cell_type": "markdown",
   "id": "b535f286-3d06-408c-b289-027f702440c0",
   "metadata": {},
   "source": [
    "---\n",
    "### Note:\n",
    "*stopwords exitst as a list but it has been converted to a set.* \n",
    "\n",
    "***Fileids** in **nltk.corpus** contains files for different languages.*\n",
    "\n",
    "---"
   ]
  },
  {
   "cell_type": "code",
   "execution_count": 7,
   "id": "93dbef58-9684-4a35-8440-b2c21ac2beeb",
   "metadata": {},
   "outputs": [],
   "source": [
    "filtered_tokens = [word for word in tokens if word.lower() not in stop_words] #making a list of words that are not stopwords"
   ]
  },
  {
   "cell_type": "code",
   "execution_count": 8,
   "id": "c3e53d21-8db9-4241-9c2d-adec1afec452",
   "metadata": {},
   "outputs": [
    {
     "name": "stdout",
     "output_type": "stream",
     "text": [
      "Filtered words (without stopwords): ['interested', 'installing', 'solar', 'panels', 'home', '.', 'options', '?']\n"
     ]
    }
   ],
   "source": [
    "print(\"Filtered words (without stopwords):\", filtered_tokens)"
   ]
  },
  {
   "cell_type": "code",
   "execution_count": null,
   "id": "59eca485-f2c0-414b-9975-f9af7c5d6763",
   "metadata": {},
   "outputs": [],
   "source": []
  }
 ],
 "metadata": {
  "kernelspec": {
   "display_name": "Python 3 (ipykernel)",
   "language": "python",
   "name": "python3"
  },
  "language_info": {
   "codemirror_mode": {
    "name": "ipython",
    "version": 3
   },
   "file_extension": ".py",
   "mimetype": "text/x-python",
   "name": "python",
   "nbconvert_exporter": "python",
   "pygments_lexer": "ipython3",
   "version": "3.10.5"
  }
 },
 "nbformat": 4,
 "nbformat_minor": 5
}
