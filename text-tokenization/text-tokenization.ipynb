{
 "cells": [
  {
   "cell_type": "markdown",
   "id": "107493ae-aed5-4726-a0ae-852cea757f88",
   "metadata": {},
   "source": [
    "---\n",
    "## Setting up the environment\n",
    "---"
   ]
  },
  {
   "cell_type": "code",
   "execution_count": 1,
   "id": "340bb60a-48be-425d-8d57-93b7265e6771",
   "metadata": {},
   "outputs": [
    {
     "name": "stdout",
     "output_type": "stream",
     "text": [
      "environment is setup correctly!\n"
     ]
    }
   ],
   "source": [
    "import numpy as np\n",
    "import pandas as pd\n",
    "from sklearn.model_selection import train_test_split\n",
    "import nltk\n",
    "\n",
    "print(\"environment is setup correctly!\")"
   ]
  },
  {
   "cell_type": "markdown",
   "id": "6657743f-c042-4bcd-90e2-cedfa1cff702",
   "metadata": {},
   "source": [
    "---\n",
    "### Step 2: ###\n",
    "*Understanding customer's needs with NLP using ==Natural Language Toolkit (NLTK)==.*\n",
    "*A popular library for working with Human Language data.*\n",
    "\n",
    "---\n"
   ]
  },
  {
   "cell_type": "code",
   "execution_count": 2,
   "id": "245e8eaf-1e65-4bc2-b13e-ee5a68909ac2",
   "metadata": {},
   "outputs": [],
   "source": [
    "from nltk.tokenize import word_tokenize"
   ]
  },
  {
   "cell_type": "code",
   "execution_count": 3,
   "id": "09d17b4e-2d38-4819-af93-9eb26e7da33f",
   "metadata": {},
   "outputs": [
    {
     "name": "stdout",
     "output_type": "stream",
     "text": [
      "Tokenized words: ['I', 'am', 'interested', 'in', 'installing', 'solar', 'panels', 'for', 'my', 'home', '.', 'What', 'options', 'do', 'you', 'have', '?']\n"
     ]
    }
   ],
   "source": [
    "# Example customer query\n",
    "customer_query = \"I am interested in installing solar panels for my home. What options do you have?\"\n",
    "\n",
    "# Tokenize the query into words\n",
    "tokens = word_tokenize(customer_query)\n",
    "\n",
    "print(\"Tokenized words:\", tokens)"
   ]
  },
  {
   "cell_type": "markdown",
   "id": "8eeeb78b-8b04-49e1-9ea7-55f424f68df7",
   "metadata": {},
   "source": [
    "---\n",
    "**Executing the above required me to download the *punk_tab* from the terminal (i could have used jupyter too). There was a *lookUpError*. I ran the following command on the terminal to do that.**\n",
    "\n",
    "```\n",
    "python -m nltk.downloader punkt_tab\n",
    "```\n",
    "---\n",
    "\n"
   ]
  },
  {
   "cell_type": "code",
   "execution_count": null,
   "id": "d4c673c8-d4f0-4377-9894-4c2637675544",
   "metadata": {},
   "outputs": [],
   "source": []
  }
 ],
 "metadata": {
  "kernelspec": {
   "display_name": "Python 3 (ipykernel)",
   "language": "python",
   "name": "python3"
  },
  "language_info": {
   "codemirror_mode": {
    "name": "ipython",
    "version": 3
   },
   "file_extension": ".py",
   "mimetype": "text/x-python",
   "name": "python",
   "nbconvert_exporter": "python",
   "pygments_lexer": "ipython3",
   "version": "3.10.5"
  }
 },
 "nbformat": 4,
 "nbformat_minor": 5
}
